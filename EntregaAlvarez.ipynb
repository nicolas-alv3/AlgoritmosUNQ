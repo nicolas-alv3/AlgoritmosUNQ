{
 "cells": [
  {
   "cell_type": "code",
   "execution_count": 2,
   "metadata": {},
   "outputs": [],
   "source": [
    "import numpy as np\n",
    "import math as m\n",
    "import random\n",
    "import timeit\n",
    "import matplotlib.pyplot as plt\n",
    "import scipy as sp\n",
    "import scipy.special"
   ]
  },
  {
   "cell_type": "code",
   "execution_count": 17,
   "metadata": {},
   "outputs": [
    {
     "name": "stdout",
     "output_type": "stream",
     "text": [
      "1\n",
      "2\n",
      "3\n",
      "4\n",
      "5\n",
      "6\n",
      "7\n",
      "8\n",
      "9\n",
      "10\n",
      "11\n"
     ]
    }
   ],
   "source": [
    "##Busqueda binaria con listas\n",
    "\n",
    "#Lista estrictamente creciente\n",
    "lista = [1,2,3,4,5,6,7,8,9,10,11]\n",
    "\n",
    "def busquedaLineal(ls,n):\n",
    "    #Precondicion: n pertenece a ls\n",
    "    for x in ls:\n",
    "        if(x==n):\n",
    "            return n\n",
    "\n",
    "\n",
    "def busquedaBinaria(ls,n):\n",
    "    #Precondicion: n pertenece a ls\n",
    "    mitad = m.floor(len(ls) /2)\n",
    "    if(len(ls) <3):\n",
    "        return busquedaLineal(ls,n) #O(1) porque a lo sumo va a ser O(2)\n",
    "    else:\n",
    "        if(ls[mitad]> n):\n",
    "            return busquedaBinaria(ls[0:mitad],n)\n",
    "        else:\n",
    "            return busquedaBinaria(ls[mitad:],n) #mitad: es desde la mitad hasta el final\n",
    "        \n",
    "for i in lista:\n",
    "    print(busquedaBinaria(lista,i))"
   ]
  },
  {
   "cell_type": "code",
   "execution_count": 4,
   "metadata": {},
   "outputs": [
    {
     "name": "stdout",
     "output_type": "stream",
     "text": [
      "1\n",
      "2\n",
      "3\n",
      "4\n",
      "5\n",
      "6\n",
      "7\n",
      "8\n",
      "9\n",
      "10\n",
      "11\n",
      "12\n"
     ]
    }
   ],
   "source": [
    "##Busqueda ternaria con listas\n",
    "\n",
    "#Lista estrictamente creciente\n",
    "lista = [1,2,3,4,5,6,7,8,9,10,11,12]\n",
    "\n",
    "def busquedaTernaria(ls,n):\n",
    "    #Precondicion: n pertenece a ls\n",
    "    if(len(ls) < 3):\n",
    "        return busquedaLineal(ls,n) #O(1) porque a lo sumo va a ser O(2)\n",
    "    primerTercio = m.floor(len(ls) /3)\n",
    "    segundoTercio = primerTercio * 2\n",
    "    if(ls[primerTercio] == n):\n",
    "        return n\n",
    "    else:\n",
    "        if(ls[primerTercio] > n):\n",
    "            return busquedaTernaria(ls[0:primerTercio],n)\n",
    "        elif(ls[segundoTercio] > n):\n",
    "            return busquedaTernaria(ls[primerTercio:segundoTercio],n)\n",
    "        else:return busquedaTernaria(ls[segundoTercio:],n)\n",
    "                \n",
    "        \n",
    "for i in lista:\n",
    "    print(busquedaTernaria(lista,i))"
   ]
  },
  {
   "cell_type": "code",
   "execution_count": 19,
   "metadata": {},
   "outputs": [
    {
     "data": {
      "text/plain": [
       "<matplotlib.legend.Legend at 0x7fadce4cea00>"
      ]
     },
     "execution_count": 19,
     "metadata": {},
     "output_type": "execute_result"
    },
    {
     "data": {
      "image/png": "[encoded data removed]",
      "text/plain": [
       "<Figure size 432x288 with 1 Axes>"
      ]
     },
     "metadata": {
      "needs_background": "light"
     },
     "output_type": "display_data"
    }
   ],
   "source": [
    "n_min=1\n",
    "n_max=1000\n",
    "iteraciones = 10\n",
    "st=2\n",
    "precision_tiempo = 1\n",
    "\n",
    "\n",
    "t_binaria = list()\n",
    "for n in range(n_min, n_max, st):\n",
    "    suma = 0\n",
    "    v = random.sample(range(0, n), 1)[0]\n",
    "    for foo in range(1,iteraciones):\n",
    "        lista = list(range(1,n))\n",
    "        suma += timeit.timeit(lambda: busquedaBinaria(lista,n), number = precision_tiempo)\n",
    "    promedio = suma / iteraciones\n",
    "    t_binaria.append(promedio)\n",
    "\n",
    "t_ternaria = list()\n",
    "for n in range(n_min, n_max, st):\n",
    "    suma = 0\n",
    "    v = random.sample(range(0, n), 1)[0]\n",
    "    for foo in range(1,iteraciones):\n",
    "        lista = list(range(1,n))\n",
    "        suma += timeit.timeit(lambda: busquedaTernaria(lista,n), number = precision_tiempo)\n",
    "    promedio = suma / iteraciones\n",
    "    t_ternaria.append(promedio)\n",
    "    \n",
    "t_secuencial = list()\n",
    "for n in range(n_min, n_max, st):\n",
    "    suma = 0\n",
    "    v = random.sample(range(0, n), 1)[0]\n",
    "    for foo in range(1,iteraciones):\n",
    "        lista = list(range(1,n))\n",
    "        suma += timeit.timeit(lambda: busquedaLineal(lista,n), number = precision_tiempo)\n",
    "    promedio = suma / iteraciones\n",
    "    t_secuencial.append(promedio)\n",
    "\n",
    "eje_x = list(range(n_min, n_max, st))\n",
    "plt.plot(eje_x, t_binaria, label = 'binaria')\n",
    "plt.plot(eje_x, t_ternaria, label = 'ternaria')\n",
    "#plt.plot(eje_x, t_secuencial, label = 'secuencial')\n",
    "#Saco la busqueda secuencial para que se vean las logaritmicas mas claramente\n",
    "\n",
    "plt.xlabel('n')\n",
    "plt.ylabel('costo')\n",
    "\n",
    "plt.legend()\n",
    "\n",
    "\n",
    "\n"
   ]
  }
 ],
 "metadata": {
  "kernelspec": {
   "display_name": "Python 3",
   "language": "python",
   "name": "python3"
  },
  "language_info": {
   "codemirror_mode": {
    "name": "ipython",
    "version": 3
   },
   "file_extension": ".py",
   "mimetype": "text/x-python",
   "name": "python",
   "nbconvert_exporter": "python",
   "pygments_lexer": "ipython3",
   "version": "3.8.3"
  }
 },
 "nbformat": 4,
 "nbformat_minor": 4
}
